{
 "cells": [
  {
   "cell_type": "code",
   "execution_count": 1,
   "metadata": {},
   "outputs": [],
   "source": [
    "import spotipy\n",
    "from spotipy.oauth2 import SpotifyOAuth\n",
    "import sys\n",
    "import json\n",
    "from dotenv import load_dotenv\n",
    "import pandas as pd\n",
    "import datetime\n",
    "import pytz\n",
    "from dateutil.relativedelta import relativedelta"
   ]
  },
  {
   "attachments": {},
   "cell_type": "markdown",
   "metadata": {},
   "source": [
    "# Connecting to Spotify API"
   ]
  },
  {
   "cell_type": "code",
   "execution_count": 2,
   "metadata": {},
   "outputs": [],
   "source": [
    "load_dotenv()\n",
    "if len(sys.argv) > 1:\n",
    "    username = sys.argv[1]\n",
    "else:\n",
    "    print(\"usage: python3 file.py [username]\")\n",
    "    sys.exit()"
   ]
  },
  {
   "cell_type": "code",
   "execution_count": 3,
   "metadata": {},
   "outputs": [],
   "source": [
    "scope = \"user-library-read\"\n",
    "sp = spotipy.Spotify(auth_manager=SpotifyOAuth(scope=scope))"
   ]
  },
  {
   "cell_type": "code",
   "execution_count": 4,
   "metadata": {},
   "outputs": [
    {
     "data": {
      "text/plain": [
       "{'sum': '6URjLae4AnvscdYVVB9Tqq',\n",
       " 'rihanna': '76QhOFRR5kyyrbupyT9R9I',\n",
       " 'RO tation': '6eQTWnnnbFDm3QRy7lgSsr',\n",
       " 'dj': '7BKQPJIKcp9mKV24LyLq61',\n",
       " 'chill': '1XPdaFPovJmoL9OzDAYJ5Z',\n",
       " 'old': '3Ehc9YycykfZ6ZvZ6GlIt2'}"
      ]
     },
     "execution_count": 4,
     "metadata": {},
     "output_type": "execute_result"
    }
   ],
   "source": [
    "playlists_res = sp.current_user_playlists()['items']\n",
    "playlists = {}\n",
    "\n",
    "for item in playlists_res:\n",
    "  playlists[item['name']] = item['id']\n",
    "\n",
    "playlists"
   ]
  },
  {
   "attachments": {},
   "cell_type": "markdown",
   "metadata": {},
   "source": [
    "# Constructing Input Data From Playlist"
   ]
  },
  {
   "cell_type": "code",
   "execution_count": 5,
   "metadata": {},
   "outputs": [],
   "source": [
    "id = playlists['RO tation'] # This is what the input to the model will be, playlist ID\n",
    "def tracks_from_playlist(id):\n",
    "    \"\"\"\n",
    "    Given a playlist id, returns a pandas dataframe consisting of key elements of each song\n",
    "    \"\"\"\n",
    "    playlist = sp.playlist(id)\n",
    "    tracks = []\n",
    "    for item in playlist['tracks']['items']:\n",
    "        if item['track']['id'] is not None:\n",
    "            track = item['track']\n",
    "            track_id = track['id']\n",
    "            artist_ids = [artist['id'] for artist in track['artists']] if len(track['artists']) > 0 else None\n",
    "            artist_names = [artist['name'] for artist in track['artists']] if len(track['artists']) > 0 else None\n",
    "            track_info = {\n",
    "                'track_name': track['name'],\n",
    "                'track_id': track_id,\n",
    "                'artists': artist_names,\n",
    "                'artist_ids': artist_ids,\n",
    "                'album_name': track['album']['name'],\n",
    "                'duration_ms': track['duration_ms'],\n",
    "                'explicit': track['explicit'],\n",
    "                'popularity': track['popularity'],\n",
    "                'date_added': item['added_at']\n",
    "            }\n",
    "            tracks.append(track_info)\n",
    "\n",
    "    tracks_df = pd.DataFrame(tracks)\n",
    "    tracks_df['date_added'] = pd.to_datetime(tracks_df['date_added'], utc=True)\n",
    "    now = datetime.datetime.now(pytz.utc)\n",
    "    tracks_df['months_since_added'] = tracks_df['date_added'].apply(lambda x: relativedelta(now, x).months)\n",
    "    tracks_df = tracks_df.drop(['date_added'], axis=1)\n",
    "\n",
    "    return tracks_df\n",
    "\n",
    "# rotation_df = tracks_from_playlist(id)\n",
    "# rotation_df"
   ]
  },
  {
   "cell_type": "code",
   "execution_count": 6,
   "metadata": {},
   "outputs": [],
   "source": [
    "def extract_tracks_features(ids):\n",
    "  \"\"\"\n",
    "  Given a list of track ids, returns a pandas dataframe of key audio features of each track\n",
    "  \"\"\"\n",
    "  audio_features_list = []\n",
    "  for track_id in ids:\n",
    "    if track_id is not None:\n",
    "      audio_features = sp.audio_features(track_id)[0]\n",
    "      audio_features_list.append(audio_features)\n",
    "\n",
    "  # convert list of dictionaries to Pandas DataFrame\n",
    "  audio_features_df = pd.DataFrame.from_records(audio_features_list, columns=audio_features_list[0].keys())\n",
    "\n",
    "  # add track ID column to DataFrame\n",
    "  audio_features_df['track_id'] = ids\n",
    "\n",
    "  # re-order columns to put track_id first\n",
    "  cols = audio_features_df.columns.tolist()\n",
    "  cols = cols[-1:] + cols[:-1]\n",
    "  audio_features_df = audio_features_df[cols]\n",
    "  audio_features_df = audio_features_df.drop(['type', 'id', 'uri', 'track_href', 'analysis_url', 'track_id'], axis=1)\n",
    "  return audio_features_df\n",
    "\n",
    "# tracks_df = extract_tracks_features(tracks_from_playlist(id)['track_id'])\n",
    "# tracks_df"
   ]
  },
  {
   "cell_type": "code",
   "execution_count": 7,
   "metadata": {},
   "outputs": [],
   "source": [
    "tracks_df1 = tracks_from_playlist(id)\n",
    "tracks_df2 = extract_tracks_features(tracks_df1['track_id'])\n",
    "playlist_df = pd.concat([tracks_df1,tracks_df2], axis=1)\n",
    "playlist_df"
   ]
  },
  {
   "attachments": {},
   "cell_type": "markdown",
   "metadata": {},
   "source": [
    "# Generate Recommendations"
   ]
  },
  {
   "cell_type": "code",
   "execution_count": null,
   "metadata": {},
   "outputs": [],
   "source": []
  }
 ],
 "metadata": {
  "kernelspec": {
   "display_name": "base",
   "language": "python",
   "name": "python3"
  },
  "language_info": {
   "codemirror_mode": {
    "name": "ipython",
    "version": 3
   },
   "file_extension": ".py",
   "mimetype": "text/x-python",
   "name": "python",
   "nbconvert_exporter": "python",
   "pygments_lexer": "ipython3",
   "version": "3.10.9"
  },
  "orig_nbformat": 4
 },
 "nbformat": 4,
 "nbformat_minor": 2
}
